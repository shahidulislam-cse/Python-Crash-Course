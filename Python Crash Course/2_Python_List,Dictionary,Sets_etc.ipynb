{
  "cells": [
    {
      "cell_type": "markdown",
      "metadata": {
        "id": "WIkGgUIwcr10"
      },
      "source": [
        "## Python Data Structures and Boolean \n",
        "\n",
        "- Boolean\n",
        "- Boolean and Logical Operators\n",
        "- Lists\n",
        "- Comparison operators\n",
        "- Dictionaries\n",
        "- Tuples\n",
        "- Sets\n"
      ]
    },
    {
      "cell_type": "markdown",
      "metadata": {
        "id": "RVH6Anqpcr2C"
      },
      "source": [
        "### Boolean Variables\n",
        "\n",
        "Boolean values are the two constant objects False and True. \n",
        "\n",
        "They are used to represent truth values (other values can also be considered\n",
        "false or true). \n",
        "\n",
        "In numeric contexts (for example, when used as the argument to an\n",
        "arithmetic operator), they behave like the integers 0 and 1, respectively.\n",
        "\n",
        "The built-in function bool() can be used to cast any value to a Boolean,\n",
        "if the value can be interpreted as a truth value\n",
        "\n",
        "They are written as False and True, respectively.\n",
        "\n"
      ]
    },
    {
      "cell_type": "code",
      "execution_count": null,
      "metadata": {
        "id": "dLOMQVGucr2G",
        "outputId": "b7afea72-c25f-4a78-c228-d18df233e24f"
      },
      "outputs": [
        {
          "data": {
            "text/plain": [
              "False"
            ]
          },
          "execution_count": 3,
          "metadata": {},
          "output_type": "execute_result"
        }
      ],
      "source": [
        "False"
      ]
    },
    {
      "cell_type": "code",
      "execution_count": null,
      "metadata": {
        "id": "fxdqTmEXcr2M",
        "outputId": "25109cb2-1436-44fb-d42c-2766847c6603"
      },
      "outputs": [
        {
          "name": "stdout",
          "output_type": "stream",
          "text": [
            "True False\n"
          ]
        }
      ],
      "source": [
        "print(True,False)"
      ]
    },
    {
      "cell_type": "code",
      "execution_count": null,
      "metadata": {
        "id": "Wu898ucCcr2P",
        "outputId": "2d9111b0-05ea-48f0-cb08-5f70ac3737fc"
      },
      "outputs": [
        {
          "data": {
            "text/plain": [
              "bool"
            ]
          },
          "execution_count": 4,
          "metadata": {},
          "output_type": "execute_result"
        }
      ],
      "source": [
        "type(True)"
      ]
    },
    {
      "cell_type": "code",
      "execution_count": null,
      "metadata": {
        "id": "vT-OYm28cr2Q",
        "outputId": "063b2107-fa57-42f2-d9de-95097b0a0e41"
      },
      "outputs": [
        {
          "data": {
            "text/plain": [
              "bool"
            ]
          },
          "execution_count": 5,
          "metadata": {},
          "output_type": "execute_result"
        }
      ],
      "source": [
        "type(False)"
      ]
    },
    {
      "cell_type": "code",
      "execution_count": 10,
      "metadata": {
        "id": "tk1mhRj0cr2R"
      },
      "outputs": [],
      "source": [
        "my_str='Shahidul'"
      ]
    },
    {
      "cell_type": "code",
      "execution_count": 11,
      "metadata": {
        "colab": {
          "base_uri": "https://localhost:8080/"
        },
        "id": "Z_9YiNfvcr2U",
        "outputId": "2832f120-d172-4ee1-beeb-9b3fd63ebe48"
      },
      "outputs": [
        {
          "output_type": "execute_result",
          "data": {
            "text/plain": [
              "True"
            ]
          },
          "metadata": {},
          "execution_count": 11
        }
      ],
      "source": [
        "my_str.istitle()"
      ]
    },
    {
      "cell_type": "code",
      "execution_count": null,
      "metadata": {
        "id": "0bMB2nDzcr2W",
        "outputId": "8ebd5756-e9bf-44b1-bdcc-96253b2cf67b"
      },
      "outputs": [
        {
          "name": "stdout",
          "output_type": "stream",
          "text": [
            "True\n",
            "False\n",
            "False\n",
            "True\n",
            "False\n",
            "False\n",
            "False\n",
            "False\n",
            "True\n"
          ]
        }
      ],
      "source": [
        "print(my_str.isalnum()) #check if all char are numbers\n",
        "print(my_str.isalpha()) #check if all char in the string are alphabetic\n",
        "print(my_str.isdigit()) #test if string contains digits\n",
        "print(my_str.istitle()) #test if string contains title words\n",
        "print(my_str.isupper()) #test if string contains upper case\n",
        "print(my_str.islower()) #test if string contains lower case\n",
        "print(my_str.isspace()) #test if string contains spaces\n",
        "print(my_str.endswith('S')) #test if string endswith a d\n",
        "print(my_str.startswith('S')) #test if string startswith H"
      ]
    },
    {
      "cell_type": "markdown",
      "metadata": {
        "id": "vAroedzrcr2Z"
      },
      "source": [
        "### Boolean and Logical Operators"
      ]
    },
    {
      "cell_type": "code",
      "execution_count": null,
      "metadata": {
        "id": "xF98m3p1cr2a",
        "outputId": "565a5294-f350-4bfe-82be-116a0e391bae"
      },
      "outputs": [
        {
          "data": {
            "text/plain": [
              "True"
            ]
          },
          "execution_count": 10,
          "metadata": {},
          "output_type": "execute_result"
        }
      ],
      "source": [
        "True and True"
      ]
    },
    {
      "cell_type": "code",
      "execution_count": null,
      "metadata": {
        "id": "swm46yzYcr2b",
        "outputId": "b8deae96-ffc8-4aa1-82b8-f1d84beb3972"
      },
      "outputs": [
        {
          "data": {
            "text/plain": [
              "False"
            ]
          },
          "execution_count": 11,
          "metadata": {},
          "output_type": "execute_result"
        }
      ],
      "source": [
        "True and False"
      ]
    },
    {
      "cell_type": "code",
      "execution_count": null,
      "metadata": {
        "id": "KhpYgSRocr2e",
        "outputId": "37e638f6-feea-47fe-85d3-180ccd171145"
      },
      "outputs": [
        {
          "data": {
            "text/plain": [
              "True"
            ]
          },
          "execution_count": 12,
          "metadata": {},
          "output_type": "execute_result"
        }
      ],
      "source": [
        "True or False"
      ]
    },
    {
      "cell_type": "code",
      "execution_count": null,
      "metadata": {
        "id": "ojOTb-0Lcr2g",
        "outputId": "e874d3aa-a8d3-4695-bf40-36512b04c9dc"
      },
      "outputs": [
        {
          "data": {
            "text/plain": [
              "True"
            ]
          },
          "execution_count": 13,
          "metadata": {},
          "output_type": "execute_result"
        }
      ],
      "source": [
        "True or True"
      ]
    },
    {
      "cell_type": "code",
      "execution_count": 12,
      "metadata": {
        "id": "Q4gCgX9Mcr2h"
      },
      "outputs": [],
      "source": [
        "str_example='Hello World'\n",
        "my_str='Shahidul'"
      ]
    },
    {
      "cell_type": "code",
      "execution_count": null,
      "metadata": {
        "id": "dAGhbzMpcr2i",
        "outputId": "05bcec42-1524-4576-a4c1-bc336410b3c5"
      },
      "outputs": [
        {
          "data": {
            "text/plain": [
              "True"
            ]
          },
          "execution_count": 14,
          "metadata": {},
          "output_type": "execute_result"
        }
      ],
      "source": [
        "my_str.isalpha() or str_example.isnum()"
      ]
    },
    {
      "cell_type": "markdown",
      "metadata": {
        "id": "Ak9V0piecr2j"
      },
      "source": [
        "### Lists\n",
        "\n",
        "A list is a data structure in Python that is a mutable, or changeable, ordered sequence of elements. Each element or value that is inside of a list is called an item. Just as strings are defined as characters between quotes, lists are defined by having values between square brackets [ ] "
      ]
    },
    {
      "cell_type": "code",
      "execution_count": 2,
      "metadata": {
        "colab": {
          "base_uri": "https://localhost:8080/"
        },
        "id": "ye9Oy3xQcr2k",
        "outputId": "f17ca03d-cd66-4709-9bb5-a679e6d2d9ec"
      },
      "outputs": [
        {
          "output_type": "execute_result",
          "data": {
            "text/plain": [
              "list"
            ]
          },
          "metadata": {},
          "execution_count": 2
        }
      ],
      "source": [
        "type([])"
      ]
    },
    {
      "cell_type": "code",
      "execution_count": 3,
      "metadata": {
        "id": "-EHr-Q1Qcr2l"
      },
      "outputs": [],
      "source": [
        "lst_example=[]"
      ]
    },
    {
      "cell_type": "code",
      "execution_count": 4,
      "metadata": {
        "colab": {
          "base_uri": "https://localhost:8080/"
        },
        "id": "RT8vyNtMcr2m",
        "outputId": "86f505dc-97f6-4dc7-cb22-cc409d801cf1"
      },
      "outputs": [
        {
          "output_type": "execute_result",
          "data": {
            "text/plain": [
              "list"
            ]
          },
          "metadata": {},
          "execution_count": 4
        }
      ],
      "source": [
        "type(lst_example)"
      ]
    },
    {
      "cell_type": "code",
      "execution_count": 5,
      "metadata": {
        "id": "_UYkaSikcr2n"
      },
      "outputs": [],
      "source": [
        "lst=list()"
      ]
    },
    {
      "cell_type": "code",
      "execution_count": 6,
      "metadata": {
        "colab": {
          "base_uri": "https://localhost:8080/"
        },
        "id": "zFG6Ly6kcr2n",
        "outputId": "43d45fab-d8f6-4f02-d9a3-1761e0dcab20"
      },
      "outputs": [
        {
          "output_type": "execute_result",
          "data": {
            "text/plain": [
              "list"
            ]
          },
          "metadata": {},
          "execution_count": 6
        }
      ],
      "source": [
        "type(lst)"
      ]
    },
    {
      "cell_type": "code",
      "execution_count": 7,
      "metadata": {
        "id": "CRwmAC1ocr2o"
      },
      "outputs": [],
      "source": [
        "lst=['Mathematics', 'chemistry', 100, 200, 300, 204]"
      ]
    },
    {
      "cell_type": "code",
      "execution_count": 8,
      "metadata": {
        "colab": {
          "base_uri": "https://localhost:8080/"
        },
        "id": "vHIabxKbcr2p",
        "outputId": "80d2a268-7572-44c6-df50-9b22383fd08c"
      },
      "outputs": [
        {
          "output_type": "execute_result",
          "data": {
            "text/plain": [
              "6"
            ]
          },
          "metadata": {},
          "execution_count": 8
        }
      ],
      "source": [
        "len(lst)"
      ]
    },
    {
      "cell_type": "code",
      "execution_count": 9,
      "metadata": {
        "colab": {
          "base_uri": "https://localhost:8080/"
        },
        "id": "wu3qq0YZcr2p",
        "outputId": "08250eed-45ce-46df-8caa-3b1b178aa55d"
      },
      "outputs": [
        {
          "output_type": "execute_result",
          "data": {
            "text/plain": [
              "list"
            ]
          },
          "metadata": {},
          "execution_count": 9
        }
      ],
      "source": [
        "type(lst)"
      ]
    },
    {
      "cell_type": "markdown",
      "metadata": {
        "id": "zsNKj88Fcr2q"
      },
      "source": [
        "### Append"
      ]
    },
    {
      "cell_type": "code",
      "execution_count": 13,
      "metadata": {
        "id": "KRPCt8y0cr2s"
      },
      "outputs": [],
      "source": [
        "#.append is used to add elements in the list\n",
        "lst.append(\"Shahidul\")"
      ]
    },
    {
      "cell_type": "code",
      "execution_count": 14,
      "metadata": {
        "id": "YpFbkNs2cr2t"
      },
      "outputs": [],
      "source": [
        "lst.append([\"John\",\"Bala\"])"
      ]
    },
    {
      "cell_type": "code",
      "execution_count": null,
      "metadata": {
        "id": "wEbFgQZfcr2u",
        "outputId": "c6ccf1e1-f9e3-43ce-8b8e-0217c9553216"
      },
      "outputs": [
        {
          "data": {
            "text/plain": [
              "['Mathematics', 'chemistry', 100, 200, 300, 204, 'Krish', ['John', 'Bala']]"
            ]
          },
          "execution_count": 28,
          "metadata": {},
          "output_type": "execute_result"
        }
      ],
      "source": [
        "lst"
      ]
    },
    {
      "cell_type": "code",
      "execution_count": 15,
      "metadata": {
        "colab": {
          "base_uri": "https://localhost:8080/",
          "height": 36
        },
        "id": "ygYfG74pcr2u",
        "outputId": "14dcea0f-53e7-48d6-a728-c0bbebb86c5e"
      },
      "outputs": [
        {
          "output_type": "execute_result",
          "data": {
            "text/plain": [
              "'Shahidul'"
            ],
            "application/vnd.google.colaboratory.intrinsic+json": {
              "type": "string"
            }
          },
          "metadata": {},
          "execution_count": 15
        }
      ],
      "source": [
        "##Indexing in List\n",
        "lst[6]"
      ]
    },
    {
      "cell_type": "code",
      "execution_count": null,
      "metadata": {
        "id": "FIZEi9oEcr2v",
        "outputId": "5ca94721-f833-4eca-fd11-d4c0b461e80f"
      },
      "outputs": [
        {
          "data": {
            "text/plain": [
              "['chemistry', 100, 200, 300, 204]"
            ]
          },
          "execution_count": 26,
          "metadata": {},
          "output_type": "execute_result"
        }
      ],
      "source": [
        "lst[1:6]"
      ]
    },
    {
      "cell_type": "markdown",
      "metadata": {
        "id": "abGpbQPKcr2w"
      },
      "source": [
        "### Insert"
      ]
    },
    {
      "cell_type": "code",
      "execution_count": 16,
      "metadata": {
        "id": "ODcYZmtycr2w"
      },
      "outputs": [],
      "source": [
        "## insert in a specific order\n",
        "\n",
        "lst.insert(2,\"Islam\")"
      ]
    },
    {
      "cell_type": "code",
      "execution_count": null,
      "metadata": {
        "id": "s8QKUDPCcr2x",
        "outputId": "99ca1661-5d5e-416d-9d2a-c68b96578ba9"
      },
      "outputs": [
        {
          "data": {
            "text/plain": [
              "['Mathematics',\n",
              " 'chemistry',\n",
              " 'Naik',\n",
              " 100,\n",
              " 200,\n",
              " 300,\n",
              " 204,\n",
              " 'Krish',\n",
              " ['John', 'Bala']]"
            ]
          },
          "execution_count": 30,
          "metadata": {},
          "output_type": "execute_result"
        }
      ],
      "source": [
        "lst"
      ]
    },
    {
      "cell_type": "code",
      "execution_count": null,
      "metadata": {
        "id": "oFh_hQm4cr2x"
      },
      "outputs": [],
      "source": [
        "lst.append([\"Hello\",\"World\"])"
      ]
    },
    {
      "cell_type": "code",
      "execution_count": null,
      "metadata": {
        "id": "DII_TZi-cr2x",
        "outputId": "e0b80394-23d4-4f05-ef1e-ec7674ef3518"
      },
      "outputs": [
        {
          "data": {
            "text/plain": [
              "['Mathematics',\n",
              " 'chemistry',\n",
              " 'Naik',\n",
              " 100,\n",
              " 200,\n",
              " 300,\n",
              " 204,\n",
              " 'Krish',\n",
              " ['John', 'Bala'],\n",
              " ['Hello', 'World']]"
            ]
          },
          "execution_count": 32,
          "metadata": {},
          "output_type": "execute_result"
        }
      ],
      "source": [
        "lst"
      ]
    },
    {
      "cell_type": "code",
      "execution_count": null,
      "metadata": {
        "id": "mNtyrR9-cr2y"
      },
      "outputs": [],
      "source": [
        "lst=[1,2,3]"
      ]
    },
    {
      "cell_type": "code",
      "execution_count": null,
      "metadata": {
        "id": "0-aA5hWbcr2z"
      },
      "outputs": [],
      "source": [
        "lst.append([4,5])"
      ]
    },
    {
      "cell_type": "code",
      "execution_count": null,
      "metadata": {
        "id": "iCkvwKPxcr2z",
        "outputId": "cd5035a7-ba9a-4e01-e046-a1448c51c602"
      },
      "outputs": [
        {
          "data": {
            "text/plain": [
              "[1, 2, 3, [4, 5]]"
            ]
          },
          "execution_count": 32,
          "metadata": {},
          "output_type": "execute_result"
        }
      ],
      "source": [
        "lst"
      ]
    },
    {
      "cell_type": "markdown",
      "metadata": {
        "id": "WU_YI24Hcr20"
      },
      "source": [
        "### Extend Method"
      ]
    },
    {
      "cell_type": "code",
      "execution_count": null,
      "metadata": {
        "id": "eVPbBnZ1cr20"
      },
      "outputs": [],
      "source": [
        "lst=[1,2,3,4,5,6]"
      ]
    },
    {
      "cell_type": "code",
      "execution_count": null,
      "metadata": {
        "id": "ycDpIaGJcr20"
      },
      "outputs": [],
      "source": [
        "lst.extend([8,9])"
      ]
    },
    {
      "cell_type": "code",
      "execution_count": null,
      "metadata": {
        "id": "HRBbjfG7cr21",
        "outputId": "4bd45701-7773-4544-9ed3-2a081f11620a"
      },
      "outputs": [
        {
          "data": {
            "text/plain": [
              "[1, 2, 3, 4, 5, 6, 8, 9]"
            ]
          },
          "execution_count": 35,
          "metadata": {},
          "output_type": "execute_result"
        }
      ],
      "source": [
        "lst"
      ]
    },
    {
      "cell_type": "markdown",
      "metadata": {
        "id": "e2n3-dHucr21"
      },
      "source": [
        "### Various Operations that we can perform in List"
      ]
    },
    {
      "cell_type": "code",
      "execution_count": null,
      "metadata": {
        "id": "fN4nxvUzcr21"
      },
      "outputs": [],
      "source": [
        "lst=[1,2,3,4,5]"
      ]
    },
    {
      "cell_type": "code",
      "execution_count": null,
      "metadata": {
        "id": "LljNVC_rcr22",
        "outputId": "d006dc6b-e517-4a4f-c67f-fa8ccdce1d8e"
      },
      "outputs": [
        {
          "data": {
            "text/plain": [
              "15"
            ]
          },
          "execution_count": 42,
          "metadata": {},
          "output_type": "execute_result"
        }
      ],
      "source": [
        "sum(lst)"
      ]
    },
    {
      "cell_type": "code",
      "execution_count": null,
      "metadata": {
        "id": "A9pz0OE8cr22",
        "outputId": "84ef573d-eca4-46bd-b3cd-c75850e80fc7"
      },
      "outputs": [
        {
          "data": {
            "text/plain": [
              "[1, 2, 3, 4, 5, 1, 2, 3, 4, 5, 1, 2, 3, 4, 5, 1, 2, 3, 4, 5, 1, 2, 3, 4, 5]"
            ]
          },
          "execution_count": 48,
          "metadata": {},
          "output_type": "execute_result"
        }
      ],
      "source": [
        "lst*5"
      ]
    },
    {
      "cell_type": "markdown",
      "metadata": {
        "id": "RDGzZjsxcr23"
      },
      "source": [
        "### Pop() Method"
      ]
    },
    {
      "cell_type": "code",
      "execution_count": null,
      "metadata": {
        "id": "kk-ie5QCcr23",
        "outputId": "fa55bee6-ed38-49cb-da0a-28763e96893e"
      },
      "outputs": [
        {
          "data": {
            "text/plain": [
              "5"
            ]
          },
          "execution_count": 37,
          "metadata": {},
          "output_type": "execute_result"
        }
      ],
      "source": [
        "lst.pop()"
      ]
    },
    {
      "cell_type": "code",
      "execution_count": null,
      "metadata": {
        "id": "Bv3eRg4Pcr24",
        "outputId": "2f6d53b1-d42f-498b-cad8-285de9264d8d"
      },
      "outputs": [
        {
          "data": {
            "text/plain": [
              "[1, 2, 3, 4]"
            ]
          },
          "execution_count": 38,
          "metadata": {},
          "output_type": "execute_result"
        }
      ],
      "source": [
        "lst"
      ]
    },
    {
      "cell_type": "code",
      "execution_count": null,
      "metadata": {
        "id": "M8FonPfhcr24",
        "outputId": "23a171a4-fca1-429e-ecc4-199927397c0a"
      },
      "outputs": [
        {
          "data": {
            "text/plain": [
              "1"
            ]
          },
          "execution_count": 39,
          "metadata": {},
          "output_type": "execute_result"
        }
      ],
      "source": [
        "lst.pop(0)"
      ]
    },
    {
      "cell_type": "code",
      "execution_count": null,
      "metadata": {
        "id": "cDlb2TIMcr25",
        "outputId": "4e7de2f4-6522-4247-b1d9-f3c5854c2d6b"
      },
      "outputs": [
        {
          "data": {
            "text/plain": [
              "[2, 3, 4]"
            ]
          },
          "execution_count": 40,
          "metadata": {},
          "output_type": "execute_result"
        }
      ],
      "source": [
        "lst"
      ]
    },
    {
      "cell_type": "markdown",
      "metadata": {
        "id": "02EgHwvecr25"
      },
      "source": [
        "### count():Calculates total occurrence of given element of List"
      ]
    },
    {
      "cell_type": "code",
      "execution_count": null,
      "metadata": {
        "id": "rLV0Py3vcr26",
        "outputId": "c4134d8f-dd7f-459f-d016-e014ce50229f"
      },
      "outputs": [
        {
          "data": {
            "text/plain": [
              "2"
            ]
          },
          "execution_count": 41,
          "metadata": {},
          "output_type": "execute_result"
        }
      ],
      "source": [
        "lst=[1,1,2,3,4,5]\n",
        "lst.count(1)"
      ]
    },
    {
      "cell_type": "code",
      "execution_count": null,
      "metadata": {
        "id": "zgvYNw_tcr26",
        "outputId": "88ff51fa-9781-42b3-a7fe-37a5771cd434"
      },
      "outputs": [
        {
          "data": {
            "text/plain": [
              "6"
            ]
          },
          "execution_count": 49,
          "metadata": {},
          "output_type": "execute_result"
        }
      ],
      "source": [
        "#length:Calculates total length of List\n",
        "len(lst)"
      ]
    },
    {
      "cell_type": "code",
      "execution_count": null,
      "metadata": {
        "id": "81PP7lcgcr27",
        "outputId": "85d35e88-32b2-4bab-c5dd-aa380bd8ab48"
      },
      "outputs": [
        {
          "data": {
            "text/plain": [
              "1"
            ]
          },
          "execution_count": 44,
          "metadata": {},
          "output_type": "execute_result"
        }
      ],
      "source": [
        "# index(): Returns the index of first occurrence. Start and End index are not necessary parameters\n",
        "lst.index(1,1,4)"
      ]
    },
    {
      "cell_type": "code",
      "execution_count": null,
      "metadata": {
        "id": "NiHIEcCbcr27",
        "outputId": "a03909d8-65a1-4a2f-8196-7c845235694c"
      },
      "outputs": [
        {
          "data": {
            "text/plain": [
              "1"
            ]
          },
          "execution_count": 45,
          "metadata": {},
          "output_type": "execute_result"
        }
      ],
      "source": [
        "##Min and Max\n",
        "min(lst)"
      ]
    },
    {
      "cell_type": "code",
      "execution_count": null,
      "metadata": {
        "id": "aBa9u-ficr28",
        "outputId": "d26bc343-5020-4f14-932d-1eee60cf7c79"
      },
      "outputs": [
        {
          "data": {
            "text/plain": [
              "5"
            ]
          },
          "execution_count": 57,
          "metadata": {},
          "output_type": "execute_result"
        }
      ],
      "source": [
        "max(lst)"
      ]
    },
    {
      "cell_type": "markdown",
      "metadata": {
        "id": "m5oERbGTcr28"
      },
      "source": [
        "## SETS\n",
        "\n",
        "A Set is an unordered collection data type that is iterable, mutable, and has no duplicate elements. Python's set class represents the mathematical notion of a set.This is based on a data structure known as a hash table"
      ]
    },
    {
      "cell_type": "code",
      "execution_count": null,
      "metadata": {
        "id": "9ExJ7udqcr29",
        "outputId": "e83f0294-ff4b-475f-96cc-0890f4c68384"
      },
      "outputs": [
        {
          "name": "stdout",
          "output_type": "stream",
          "text": [
            "set()\n",
            "<class 'set'>\n"
          ]
        }
      ],
      "source": [
        "## Defining an empy set\n",
        "\n",
        "set_var= set()\n",
        "print(set_var)\n",
        "print(type(set_var))"
      ]
    },
    {
      "cell_type": "code",
      "execution_count": null,
      "metadata": {
        "id": "KxH6WbTicr2_"
      },
      "outputs": [],
      "source": [
        "set_var={1,2,3,4,3}"
      ]
    },
    {
      "cell_type": "code",
      "execution_count": null,
      "metadata": {
        "id": "paeKCSttcr2_",
        "outputId": "16e3734b-4786-4a8d-b733-23abfcfb19f1"
      },
      "outputs": [
        {
          "data": {
            "text/plain": [
              "{1, 2, 3, 4}"
            ]
          },
          "execution_count": 50,
          "metadata": {},
          "output_type": "execute_result"
        }
      ],
      "source": [
        "set_var"
      ]
    },
    {
      "cell_type": "code",
      "execution_count": null,
      "metadata": {
        "id": "LikfaK41cr3A",
        "outputId": "962ab45b-1be6-4b0f-9f29-0c5949e27e36"
      },
      "outputs": [
        {
          "name": "stdout",
          "output_type": "stream",
          "text": [
            "{'IronMan', 'Hitman', 'Avengers'}\n"
          ]
        },
        {
          "data": {
            "text/plain": [
              "set"
            ]
          },
          "execution_count": 55,
          "metadata": {},
          "output_type": "execute_result"
        }
      ],
      "source": [
        "set_var={\"Avengers\",\"IronMan\",'Hitman'}\n",
        "print(set_var)\n",
        "type(set_var)"
      ]
    },
    {
      "cell_type": "code",
      "execution_count": null,
      "metadata": {
        "id": "MUAbraw8cr3B"
      },
      "outputs": [],
      "source": []
    },
    {
      "cell_type": "code",
      "execution_count": null,
      "metadata": {
        "id": "ra3ezW8vcr3B"
      },
      "outputs": [],
      "source": [
        "## Inbuilt function in sets\n",
        "\n",
        "set_var.add(\"Hulk\")\n"
      ]
    },
    {
      "cell_type": "code",
      "execution_count": null,
      "metadata": {
        "id": "j_uSjtY3cr3E"
      },
      "outputs": [],
      "source": [
        "."
      ]
    },
    {
      "cell_type": "code",
      "execution_count": null,
      "metadata": {
        "id": "tlhAR4YMcr3F",
        "outputId": "5aa0aa44-6d0a-47b1-fecf-6c16cc1b4824"
      },
      "outputs": [
        {
          "name": "stdout",
          "output_type": "stream",
          "text": [
            "{'IronMan', 'Hitman', 'Avengers', 'Hulk'}\n"
          ]
        }
      ],
      "source": [
        "print(set_var)"
      ]
    },
    {
      "cell_type": "code",
      "execution_count": null,
      "metadata": {
        "id": "etcS9RGDcr3G"
      },
      "outputs": [],
      "source": [
        "set1={\"Avengers\",\"IronMan\",'Hitman'}\n",
        "set2={\"Avengers\",\"IronMan\",'Hitman','Hulk2'}"
      ]
    },
    {
      "cell_type": "code",
      "execution_count": null,
      "metadata": {
        "id": "66811oApcr3G"
      },
      "outputs": [],
      "source": [
        "set2.intersection_update(set1)"
      ]
    },
    {
      "cell_type": "code",
      "execution_count": null,
      "metadata": {
        "id": "AsZC13iccr3G",
        "outputId": "4db6ff2e-8a4d-475b-dcc2-4171dee7490c"
      },
      "outputs": [
        {
          "data": {
            "text/plain": [
              "{'Avengers', 'Hitman', 'IronMan'}"
            ]
          },
          "execution_count": 66,
          "metadata": {},
          "output_type": "execute_result"
        }
      ],
      "source": [
        "set2"
      ]
    },
    {
      "cell_type": "code",
      "execution_count": null,
      "metadata": {
        "id": "k690KyNocr3H",
        "outputId": "3de987a8-2ff8-4215-b10e-686268ee9934"
      },
      "outputs": [
        {
          "data": {
            "text/plain": [
              "{'Hulk2'}"
            ]
          },
          "execution_count": 59,
          "metadata": {},
          "output_type": "execute_result"
        }
      ],
      "source": [
        "##Difference \n",
        "set2.difference(set1)"
      ]
    },
    {
      "cell_type": "code",
      "execution_count": null,
      "metadata": {
        "id": "iQvA76MMcr3H",
        "outputId": "6b1d4fcb-679d-46b5-e603-b097b8938fbd"
      },
      "outputs": [
        {
          "data": {
            "text/plain": [
              "{'Avengers', 'Hitman', 'Hulk2', 'IronMan'}"
            ]
          },
          "execution_count": 60,
          "metadata": {},
          "output_type": "execute_result"
        }
      ],
      "source": [
        "set2"
      ]
    },
    {
      "cell_type": "code",
      "execution_count": null,
      "metadata": {
        "id": "MLMm2fkEcr3I"
      },
      "outputs": [],
      "source": [
        "## Difference update\n",
        "\n",
        "set2.difference_update(set1)"
      ]
    },
    {
      "cell_type": "code",
      "execution_count": null,
      "metadata": {
        "id": "IjVYHgYycr3I",
        "outputId": "c4d4928a-4c37-44ba-c10b-82515f578aa7"
      },
      "outputs": [
        {
          "name": "stdout",
          "output_type": "stream",
          "text": [
            "{'Hulk2'}\n"
          ]
        }
      ],
      "source": [
        "print(set2)"
      ]
    },
    {
      "cell_type": "markdown",
      "metadata": {
        "id": "pm7-jsjCcr3J"
      },
      "source": [
        "## Dictionaries\n",
        "\n",
        "A dictionary is a collection which is unordered, changeable and indexed. In Python dictionaries are written with curly brackets, and they have keys and values."
      ]
    },
    {
      "cell_type": "code",
      "execution_count": null,
      "metadata": {
        "id": "S5hJoUfUcr3J"
      },
      "outputs": [],
      "source": [
        "dic={}"
      ]
    },
    {
      "cell_type": "code",
      "execution_count": null,
      "metadata": {
        "id": "c7uo8ACUcr3K",
        "outputId": "81f44f80-69d0-4f25-9464-f8e97e8f62d3"
      },
      "outputs": [
        {
          "data": {
            "text/plain": [
              "dict"
            ]
          },
          "execution_count": 60,
          "metadata": {},
          "output_type": "execute_result"
        }
      ],
      "source": [
        "type(dic)"
      ]
    },
    {
      "cell_type": "code",
      "execution_count": null,
      "metadata": {
        "id": "ktNzhUr-cr3K",
        "outputId": "fb1f5af1-883f-48f6-80ad-30517e4a5109"
      },
      "outputs": [
        {
          "data": {
            "text/plain": [
              "dict"
            ]
          },
          "execution_count": 70,
          "metadata": {},
          "output_type": "execute_result"
        }
      ],
      "source": [
        "type(dict())"
      ]
    },
    {
      "cell_type": "code",
      "execution_count": null,
      "metadata": {
        "id": "CIlnE4s6cr3K"
      },
      "outputs": [],
      "source": [
        "set_ex={1,2,3,4,5}"
      ]
    },
    {
      "cell_type": "code",
      "execution_count": null,
      "metadata": {
        "id": "st9tx4Ugcr3L",
        "outputId": "6a7763b8-15e6-47a9-ea4b-239d8e4de826"
      },
      "outputs": [
        {
          "data": {
            "text/plain": [
              "set"
            ]
          },
          "execution_count": 69,
          "metadata": {},
          "output_type": "execute_result"
        }
      ],
      "source": [
        "type(set_ex)"
      ]
    },
    {
      "cell_type": "code",
      "execution_count": null,
      "metadata": {
        "id": "IdIUpABVcr3L"
      },
      "outputs": [],
      "source": [
        "## Let create a dictionary\n",
        "\n",
        "my_dict={\"Car1\": \"Audi\", \"Car2\":\"BMW\",\"Car3\":\"Mercidies Benz\"}"
      ]
    },
    {
      "cell_type": "code",
      "execution_count": null,
      "metadata": {
        "id": "1s_Rv3jAcr3M",
        "outputId": "a9b2bc34-54bc-4819-dcd3-558cac6e0030"
      },
      "outputs": [
        {
          "data": {
            "text/plain": [
              "dict"
            ]
          },
          "execution_count": 64,
          "metadata": {},
          "output_type": "execute_result"
        }
      ],
      "source": [
        "type(my_dict)"
      ]
    },
    {
      "cell_type": "code",
      "execution_count": null,
      "metadata": {
        "id": "ZQultSaocr3M",
        "outputId": "806d0a41-f5f2-4dc5-8a8a-2eb166d35d6b"
      },
      "outputs": [
        {
          "data": {
            "text/plain": [
              "'Audi'"
            ]
          },
          "execution_count": 73,
          "metadata": {},
          "output_type": "execute_result"
        }
      ],
      "source": [
        "##Access the item values based on keys\n",
        "\n",
        "my_dict['Car1']"
      ]
    },
    {
      "cell_type": "code",
      "execution_count": null,
      "metadata": {
        "id": "hxsZc7secr3N",
        "outputId": "a35da966-06a3-4365-965d-62c2e8cc5a53"
      },
      "outputs": [
        {
          "name": "stdout",
          "output_type": "stream",
          "text": [
            "Car1\n",
            "Car2\n",
            "Car3\n"
          ]
        }
      ],
      "source": [
        "# We can even loop throught the dictionaries keys\n",
        "\n",
        "for x in my_dict:\n",
        "    print(x)"
      ]
    },
    {
      "cell_type": "code",
      "execution_count": null,
      "metadata": {
        "id": "vbPiuB4Fcr3N",
        "outputId": "8695706b-bbe1-4897-a9de-746c8237f56a"
      },
      "outputs": [
        {
          "name": "stdout",
          "output_type": "stream",
          "text": [
            "Audi\n",
            "BMW\n",
            "Mercidies Benz\n"
          ]
        }
      ],
      "source": [
        "# We can even loop throught the dictionaries values\n",
        "\n",
        "for x in my_dict.values():\n",
        "    print(x)"
      ]
    },
    {
      "cell_type": "code",
      "execution_count": null,
      "metadata": {
        "id": "eiVaw_G2cr3O",
        "outputId": "ff8a30ee-ac08-45eb-9a4c-a0b1c85b03db"
      },
      "outputs": [
        {
          "name": "stdout",
          "output_type": "stream",
          "text": [
            "('Car1', 'Audi')\n",
            "('Car2', 'BMW')\n",
            "('Car3', 'Mercidies Benz')\n"
          ]
        }
      ],
      "source": [
        "# We can also check both keys and values\n",
        "for x in my_dict.items():\n",
        "    print(x)"
      ]
    },
    {
      "cell_type": "code",
      "execution_count": null,
      "metadata": {
        "id": "otpc45atcr3P"
      },
      "outputs": [],
      "source": [
        "## Adding items in Dictionaries\n",
        "\n",
        "my_dict['car4']='Audi 2.0'"
      ]
    },
    {
      "cell_type": "code",
      "execution_count": null,
      "metadata": {
        "id": "ejwZZWPjcr3P",
        "outputId": "1de3c05b-6597-4600-992f-165fb1af9920"
      },
      "outputs": [
        {
          "data": {
            "text/plain": [
              "{'Car1': 'Audi', 'Car2': 'BMW', 'Car3': 'Mercidies Benz', 'car4': 'Audi 2.0'}"
            ]
          },
          "execution_count": 75,
          "metadata": {},
          "output_type": "execute_result"
        }
      ],
      "source": [
        "my_dict"
      ]
    },
    {
      "cell_type": "code",
      "execution_count": null,
      "metadata": {
        "id": "oxINzqGDcr3Q"
      },
      "outputs": [],
      "source": [
        "my_dict['Car1']='MAruti'"
      ]
    },
    {
      "cell_type": "code",
      "execution_count": null,
      "metadata": {
        "id": "3k3mI-O6cr3Q",
        "outputId": "d53b2e29-7466-4a2b-b604-be1a71929d8a"
      },
      "outputs": [
        {
          "data": {
            "text/plain": [
              "{'Car1': 'MAruti', 'Car2': 'BMW', 'Car3': 'Mercidies Benz', 'car4': 'Audi 2.0'}"
            ]
          },
          "execution_count": 77,
          "metadata": {},
          "output_type": "execute_result"
        }
      ],
      "source": [
        "my_dict"
      ]
    },
    {
      "cell_type": "markdown",
      "metadata": {
        "id": "sAPcADIwcr3R"
      },
      "source": [
        "### Nested Dictionary"
      ]
    },
    {
      "cell_type": "code",
      "execution_count": null,
      "metadata": {
        "id": "aDsuwNjicr3R"
      },
      "outputs": [],
      "source": [
        "car1_model={'Mercedes':1960}\n",
        "car2_model={'Audi':1970}\n",
        "car3_model={'Ambassador':1980}\n",
        "\n",
        "car_type={'car1':car1_model,'car2':car2_model,'car3':car3_model}"
      ]
    },
    {
      "cell_type": "code",
      "execution_count": null,
      "metadata": {
        "id": "PtvvOZpTcr3R",
        "outputId": "53c519f8-c223-466b-8220-87df13b399a4"
      },
      "outputs": [
        {
          "name": "stdout",
          "output_type": "stream",
          "text": [
            "{'car1': {'Mercedes': 1960}, 'car2': {'Audi': 1970}, 'car3': {'Ambassador': 1980}}\n"
          ]
        }
      ],
      "source": [
        "print(car_type)"
      ]
    },
    {
      "cell_type": "code",
      "execution_count": null,
      "metadata": {
        "id": "t-dfKA3acr3S",
        "outputId": "bd70749a-46c0-48fa-fe61-138006e356fd"
      },
      "outputs": [
        {
          "name": "stdout",
          "output_type": "stream",
          "text": [
            "{'Mercedes': 1960}\n"
          ]
        }
      ],
      "source": [
        "## Accessing the items in the dictionary\n",
        "\n",
        "print(car_type['car1'])"
      ]
    },
    {
      "cell_type": "code",
      "execution_count": null,
      "metadata": {
        "id": "ouKzXvCicr3S",
        "outputId": "a649be44-960d-4c0a-cab6-06fae0ae3a89"
      },
      "outputs": [
        {
          "name": "stdout",
          "output_type": "stream",
          "text": [
            "1960\n"
          ]
        }
      ],
      "source": [
        "print(car_type['car1']['Mercedes'])"
      ]
    },
    {
      "cell_type": "markdown",
      "metadata": {
        "id": "I2clmBfpcr3T"
      },
      "source": [
        "## Tuples"
      ]
    },
    {
      "cell_type": "code",
      "execution_count": null,
      "metadata": {
        "id": "V8zNW4owcr3T"
      },
      "outputs": [],
      "source": [
        "## create an empty Tuples\n",
        "\n",
        "my_tuple=tuple()"
      ]
    },
    {
      "cell_type": "code",
      "execution_count": null,
      "metadata": {
        "id": "31HFE3Gjcr3U",
        "outputId": "e5392193-1e6a-4980-a39f-643ede2725c0"
      },
      "outputs": [
        {
          "data": {
            "text/plain": [
              "tuple"
            ]
          },
          "execution_count": 102,
          "metadata": {},
          "output_type": "execute_result"
        }
      ],
      "source": [
        "type(my_tuple)"
      ]
    },
    {
      "cell_type": "code",
      "execution_count": null,
      "metadata": {
        "id": "C8netInPcr3Y"
      },
      "outputs": [],
      "source": [
        "my_tuple=()"
      ]
    },
    {
      "cell_type": "code",
      "execution_count": null,
      "metadata": {
        "id": "u5ggeCLncr3Y",
        "outputId": "1306a084-ffb8-4eb7-dd81-71ba79c7f8d1"
      },
      "outputs": [
        {
          "data": {
            "text/plain": [
              "tuple"
            ]
          },
          "execution_count": 104,
          "metadata": {},
          "output_type": "execute_result"
        }
      ],
      "source": [
        "type(my_tuple)"
      ]
    },
    {
      "cell_type": "code",
      "execution_count": null,
      "metadata": {
        "id": "Pcz7SfEacr36"
      },
      "outputs": [],
      "source": [
        "my_tuple=(\"Shahidul\",\"Zahid\",\"Noname\")"
      ]
    },
    {
      "cell_type": "code",
      "execution_count": null,
      "metadata": {
        "id": "CfWyGJsacr37"
      },
      "outputs": [],
      "source": [
        "my_tuple=('Hello','World')"
      ]
    },
    {
      "cell_type": "code",
      "execution_count": null,
      "metadata": {
        "id": "CsqFCNy5cr37",
        "outputId": "d0a78639-bf46-48ab-fe44-124607c19532"
      },
      "outputs": [
        {
          "name": "stdout",
          "output_type": "stream",
          "text": [
            "<class 'tuple'>\n",
            "('Hello', 'World')\n"
          ]
        }
      ],
      "source": [
        "print(type(my_tuple))\n",
        "print(my_tuple)"
      ]
    },
    {
      "cell_type": "code",
      "execution_count": null,
      "metadata": {
        "id": "d5CiyDQycr38",
        "outputId": "b6a48786-498d-46e6-f099-f8cc43e2e3e5"
      },
      "outputs": [
        {
          "data": {
            "text/plain": [
              "tuple"
            ]
          },
          "execution_count": 107,
          "metadata": {},
          "output_type": "execute_result"
        }
      ],
      "source": [
        "type(my_tuple)"
      ]
    },
    {
      "cell_type": "code",
      "execution_count": null,
      "metadata": {
        "id": "t3Uv6u7bcr39",
        "outputId": "4f71d674-d313-4365-d37b-aa5018284a58"
      },
      "outputs": [
        {
          "data": {
            "text/plain": [
              "1"
            ]
          },
          "execution_count": 110,
          "metadata": {},
          "output_type": "execute_result"
        }
      ],
      "source": [
        "## Inbuilt function\n",
        "my_tuple.count('Shahidul')"
      ]
    },
    {
      "cell_type": "code",
      "execution_count": null,
      "metadata": {
        "id": "3ALIotLOcr39",
        "outputId": "aac657da-6b9b-4699-d099-9a819b7088f2"
      },
      "outputs": [
        {
          "data": {
            "text/plain": [
              "1"
            ]
          },
          "execution_count": 117,
          "metadata": {},
          "output_type": "execute_result"
        }
      ],
      "source": [
        "my_tuple.index('Zahid')"
      ]
    },
    {
      "cell_type": "code",
      "execution_count": null,
      "metadata": {
        "id": "aqFmC8QVcr3-"
      },
      "outputs": [],
      "source": []
    }
  ],
  "metadata": {
    "kernelspec": {
      "display_name": "Python 3",
      "language": "python",
      "name": "python3"
    },
    "language_info": {
      "codemirror_mode": {
        "name": "ipython",
        "version": 3
      },
      "file_extension": ".py",
      "mimetype": "text/x-python",
      "name": "python",
      "nbconvert_exporter": "python",
      "pygments_lexer": "ipython3",
      "version": "3.6.7"
    },
    "colab": {
      "provenance": []
    }
  },
  "nbformat": 4,
  "nbformat_minor": 0
}